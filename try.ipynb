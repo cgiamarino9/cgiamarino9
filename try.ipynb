{
 "cells": [
  {
   "cell_type": "code",
   "execution_count": 12,
   "id": "b9c200ff-eb5c-48e9-bdfc-ae376894950a",
   "metadata": {},
   "outputs": [],
   "source": [
    "import geopandas as gpd\n"
   ]
  },
  {
   "cell_type": "code",
   "execution_count": 13,
   "id": "21a100db-c5e4-481b-9d26-dceef505c555",
   "metadata": {},
   "outputs": [],
   "source": [
    "filename = \"greenbook47.geojson\"\n",
    "file = open(filename)\n",
    "df = gpd.read_file(file)"
   ]
  },
  {
   "cell_type": "code",
   "execution_count": 15,
   "id": "fdd29d5e-1bc8-42c9-adba-97d852e0ffb0",
   "metadata": {},
   "outputs": [
    {
     "data": {
      "text/html": [
       "<div>\n",
       "<style scoped>\n",
       "    .dataframe tbody tr th:only-of-type {\n",
       "        vertical-align: middle;\n",
       "    }\n",
       "\n",
       "    .dataframe tbody tr th {\n",
       "        vertical-align: top;\n",
       "    }\n",
       "\n",
       "    .dataframe thead th {\n",
       "        text-align: right;\n",
       "    }\n",
       "</style>\n",
       "<table border=\"1\" class=\"dataframe\">\n",
       "  <thead>\n",
       "    <tr style=\"text-align: right;\">\n",
       "      <th></th>\n",
       "      <th>name</th>\n",
       "      <th>address</th>\n",
       "      <th>image_url</th>\n",
       "      <th>image_id</th>\n",
       "      <th>capture_uuid</th>\n",
       "      <th>dc_url</th>\n",
       "      <th>page</th>\n",
       "      <th>year</th>\n",
       "      <th>city</th>\n",
       "      <th>state</th>\n",
       "      <th>category</th>\n",
       "      <th>image_region</th>\n",
       "      <th>geocoded_address</th>\n",
       "      <th>geocoded_confidence</th>\n",
       "      <th>geometry</th>\n",
       "    </tr>\n",
       "  </thead>\n",
       "  <tbody>\n",
       "    <tr>\n",
       "      <th>0</th>\n",
       "      <td>around 20,</td>\n",
       "      <td>000 miles per year</td>\n",
       "      <td>http://images.nypl.org/index.php?id=5207629&amp;t=q</td>\n",
       "      <td>5207629</td>\n",
       "      <td>2a4111a0-892b-0132-5d0d-58d385a7bbd0</td>\n",
       "      <td>http://digitalcollections.nypl.org/items/2a411...</td>\n",
       "      <td>12</td>\n",
       "      <td>1947</td>\n",
       "      <td>WESTCHESTER</td>\n",
       "      <td>TENNESSEE</td>\n",
       "      <td>Tourist Home</td>\n",
       "      <td>{'x': 0.10086027884900624, 'y': 0.521487419283...</td>\n",
       "      <td>000 Miles Rd, Mulberry, Tennessee 37359, Unite...</td>\n",
       "      <td>0.509286</td>\n",
       "      <td>POINT (-86.39971 35.19817)</td>\n",
       "    </tr>\n",
       "    <tr>\n",
       "      <th>1</th>\n",
       "      <td>St. Thomas</td>\n",
       "      <td>127 W. 10th St.</td>\n",
       "      <td>http://images.nypl.org/index.php?id=5207645&amp;t=q</td>\n",
       "      <td>5207645</td>\n",
       "      <td>2b93aef0-892b-0132-d7c7-58d385a7bbd0</td>\n",
       "      <td>http://digitalcollections.nypl.org/items/2b93a...</td>\n",
       "      <td>28</td>\n",
       "      <td>1947</td>\n",
       "      <td>WESTCHESTER</td>\n",
       "      <td>TENNESSEE</td>\n",
       "      <td>Tourist Home</td>\n",
       "      <td>{'x': 0.12726176115802174, 'y': 0.166629736317...</td>\n",
       "      <td>127 W 10th St, Chattanooga, Tennessee 37402, U...</td>\n",
       "      <td>0.852143</td>\n",
       "      <td>POINT (-85.31081 35.04481)</td>\n",
       "    </tr>\n",
       "    <tr>\n",
       "      <th>2</th>\n",
       "      <td>Mrs. Ed. Andrews</td>\n",
       "      <td>69 Cotton St.</td>\n",
       "      <td>http://images.nypl.org/index.php?id=5207645&amp;t=q</td>\n",
       "      <td>5207645</td>\n",
       "      <td>2b93aef0-892b-0132-d7c7-58d385a7bbd0</td>\n",
       "      <td>http://digitalcollections.nypl.org/items/2b93a...</td>\n",
       "      <td>28</td>\n",
       "      <td>1947</td>\n",
       "      <td>ANDALUSIA</td>\n",
       "      <td>TENNESSEE</td>\n",
       "      <td>Tourist Home</td>\n",
       "      <td>{'x': 0.12907117008443908, 'y': 0.222690006647...</td>\n",
       "      <td>69 S Cotton St, Andalusia, Alabama 36420, Unit...</td>\n",
       "      <td>0.728333</td>\n",
       "      <td>POINT (-86.48221 31.30161)</td>\n",
       "    </tr>\n",
       "    <tr>\n",
       "      <th>3</th>\n",
       "      <td>Dunbar</td>\n",
       "      <td>323 N. 17th St.</td>\n",
       "      <td>http://images.nypl.org/index.php?id=5207645&amp;t=q</td>\n",
       "      <td>5207645</td>\n",
       "      <td>2b93aef0-892b-0132-d7c7-58d385a7bbd0</td>\n",
       "      <td>http://digitalcollections.nypl.org/items/2b93a...</td>\n",
       "      <td>28</td>\n",
       "      <td>1947</td>\n",
       "      <td>BIRMINGHAM</td>\n",
       "      <td>TENNESSEE</td>\n",
       "      <td>Tourist Home</td>\n",
       "      <td>{'x': 0.11459589867310013, 'y': 0.266341679592...</td>\n",
       "      <td>323 N 17th St, Knoxville, Tennessee 37921, Uni...</td>\n",
       "      <td>0.852143</td>\n",
       "      <td>POINT (-83.93629 35.96380)</td>\n",
       "    </tr>\n",
       "    <tr>\n",
       "      <th>4</th>\n",
       "      <td>Palm Leaf</td>\n",
       "      <td>328 1/2 18th St.</td>\n",
       "      <td>http://images.nypl.org/index.php?id=5207645&amp;t=q</td>\n",
       "      <td>5207645</td>\n",
       "      <td>2b93aef0-892b-0132-d7c7-58d385a7bbd0</td>\n",
       "      <td>http://digitalcollections.nypl.org/items/2b93a...</td>\n",
       "      <td>28</td>\n",
       "      <td>1947</td>\n",
       "      <td>BIRMINGHAM</td>\n",
       "      <td>TENNESSEE</td>\n",
       "      <td>Tourist Home</td>\n",
       "      <td>{'x': 0.11670687575392039, 'y': 0.289829381785...</td>\n",
       "      <td>328 18th St, Knoxville, Tennessee 37916, Unite...</td>\n",
       "      <td>0.828333</td>\n",
       "      <td>POINT (-83.93586 35.95957)</td>\n",
       "    </tr>\n",
       "  </tbody>\n",
       "</table>\n",
       "</div>"
      ],
      "text/plain": [
       "               name             address  \\\n",
       "0        around 20,  000 miles per year   \n",
       "1        St. Thomas     127 W. 10th St.   \n",
       "2  Mrs. Ed. Andrews       69 Cotton St.   \n",
       "3            Dunbar     323 N. 17th St.   \n",
       "4         Palm Leaf    328 1/2 18th St.   \n",
       "\n",
       "                                         image_url image_id  \\\n",
       "0  http://images.nypl.org/index.php?id=5207629&t=q  5207629   \n",
       "1  http://images.nypl.org/index.php?id=5207645&t=q  5207645   \n",
       "2  http://images.nypl.org/index.php?id=5207645&t=q  5207645   \n",
       "3  http://images.nypl.org/index.php?id=5207645&t=q  5207645   \n",
       "4  http://images.nypl.org/index.php?id=5207645&t=q  5207645   \n",
       "\n",
       "                           capture_uuid  \\\n",
       "0  2a4111a0-892b-0132-5d0d-58d385a7bbd0   \n",
       "1  2b93aef0-892b-0132-d7c7-58d385a7bbd0   \n",
       "2  2b93aef0-892b-0132-d7c7-58d385a7bbd0   \n",
       "3  2b93aef0-892b-0132-d7c7-58d385a7bbd0   \n",
       "4  2b93aef0-892b-0132-d7c7-58d385a7bbd0   \n",
       "\n",
       "                                              dc_url  page  year         city  \\\n",
       "0  http://digitalcollections.nypl.org/items/2a411...    12  1947  WESTCHESTER   \n",
       "1  http://digitalcollections.nypl.org/items/2b93a...    28  1947  WESTCHESTER   \n",
       "2  http://digitalcollections.nypl.org/items/2b93a...    28  1947    ANDALUSIA   \n",
       "3  http://digitalcollections.nypl.org/items/2b93a...    28  1947   BIRMINGHAM   \n",
       "4  http://digitalcollections.nypl.org/items/2b93a...    28  1947   BIRMINGHAM   \n",
       "\n",
       "       state      category                                       image_region  \\\n",
       "0  TENNESSEE  Tourist Home  {'x': 0.10086027884900624, 'y': 0.521487419283...   \n",
       "1  TENNESSEE  Tourist Home  {'x': 0.12726176115802174, 'y': 0.166629736317...   \n",
       "2  TENNESSEE  Tourist Home  {'x': 0.12907117008443908, 'y': 0.222690006647...   \n",
       "3  TENNESSEE  Tourist Home  {'x': 0.11459589867310013, 'y': 0.266341679592...   \n",
       "4  TENNESSEE  Tourist Home  {'x': 0.11670687575392039, 'y': 0.289829381785...   \n",
       "\n",
       "                                    geocoded_address  geocoded_confidence  \\\n",
       "0  000 Miles Rd, Mulberry, Tennessee 37359, Unite...             0.509286   \n",
       "1  127 W 10th St, Chattanooga, Tennessee 37402, U...             0.852143   \n",
       "2  69 S Cotton St, Andalusia, Alabama 36420, Unit...             0.728333   \n",
       "3  323 N 17th St, Knoxville, Tennessee 37921, Uni...             0.852143   \n",
       "4  328 18th St, Knoxville, Tennessee 37916, Unite...             0.828333   \n",
       "\n",
       "                     geometry  \n",
       "0  POINT (-86.39971 35.19817)  \n",
       "1  POINT (-85.31081 35.04481)  \n",
       "2  POINT (-86.48221 31.30161)  \n",
       "3  POINT (-83.93629 35.96380)  \n",
       "4  POINT (-83.93586 35.95957)  "
      ]
     },
     "execution_count": 15,
     "metadata": {},
     "output_type": "execute_result"
    }
   ],
   "source": [
    "df.head()"
   ]
  },
  {
   "cell_type": "code",
   "execution_count": 5,
   "id": "c397144a-5637-4786-b593-93b02667cb4e",
   "metadata": {},
   "outputs": [
    {
     "ename": "TypeError",
     "evalue": "'tuple' object is not callable",
     "output_type": "error",
     "traceback": [
      "\u001b[0;31m---------------------------------------------------------------------------\u001b[0m",
      "\u001b[0;31mTypeError\u001b[0m                                 Traceback (most recent call last)",
      "\u001b[0;32m/tmp/ipykernel_259/1283549821.py\u001b[0m in \u001b[0;36m<module>\u001b[0;34m\u001b[0m\n\u001b[0;32m----> 1\u001b[0;31m \u001b[0mmining\u001b[0m\u001b[0;34m.\u001b[0m\u001b[0mshape\u001b[0m\u001b[0;34m(\u001b[0m\u001b[0;34m)\u001b[0m\u001b[0;34m\u001b[0m\u001b[0;34m\u001b[0m\u001b[0m\n\u001b[0m",
      "\u001b[0;31mTypeError\u001b[0m: 'tuple' object is not callable"
     ]
    }
   ],
   "source": [
    "mining.shape()"
   ]
  },
  {
   "cell_type": "code",
   "execution_count": 6,
   "id": "3bd2efcc-a2b9-47aa-8340-c7dea5d99032",
   "metadata": {},
   "outputs": [
    {
     "data": {
      "text/plain": [
       "(277195, 2)"
      ]
     },
     "execution_count": 6,
     "metadata": {},
     "output_type": "execute_result"
    }
   ],
   "source": [
    "mining.shape"
   ]
  },
  {
   "cell_type": "code",
   "execution_count": null,
   "id": "582bab84-5558-4070-824f-7fa2106a1b50",
   "metadata": {},
   "outputs": [],
   "source": []
  }
 ],
 "metadata": {
  "kernelspec": {
   "display_name": "Python 3 (ipykernel)",
   "language": "python",
   "name": "python3"
  },
  "language_info": {
   "codemirror_mode": {
    "name": "ipython",
    "version": 3
   },
   "file_extension": ".py",
   "mimetype": "text/x-python",
   "name": "python",
   "nbconvert_exporter": "python",
   "pygments_lexer": "ipython3",
   "version": "3.9.6"
  }
 },
 "nbformat": 4,
 "nbformat_minor": 5
}
